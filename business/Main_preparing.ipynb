{
 "cells": [
  {
   "cell_type": "code",
   "execution_count": 404,
   "metadata": {},
   "outputs": [],
   "source": [
    "import pandas as pd\n",
    "import numpy as np\n",
    "from scipy import sparse\n",
    "import cpp.python_modules.ML as ML\n",
    "import matplotlib as plt\n",
    "import pylab as pl\n",
    "from matplotlib.colors import ListedColormap"
   ]
  },
  {
   "cell_type": "code",
   "execution_count": 321,
   "metadata": {},
   "outputs": [],
   "source": [
    "train_data_x = pd.read_csv('train_data_x.csv')\n",
    "test_data_x = pd.read_csv('test_data_x.csv')\n",
    "test_data_y = pd.read_csv('test_data_y.csv')"
   ]
  },
  {
   "cell_type": "code",
   "execution_count": 347,
   "metadata": {},
   "outputs": [
    {
     "data": {
      "text/plain": [
       "29"
      ]
     },
     "execution_count": 347,
     "metadata": {},
     "output_type": "execute_result"
    }
   ],
   "source": [
    "len(test_data_x.head().visits[0].split())"
   ]
  },
  {
   "cell_type": "code",
   "execution_count": 323,
   "metadata": {},
   "outputs": [
    {
     "data": {
      "text/plain": [
       "'17 39 145 147 176 187 260 264 288 298 335 339 481 540 561 571 614 668 676 759 797 806 836 884 887 956 962 1052 1076 1084'"
      ]
     },
     "execution_count": 323,
     "metadata": {},
     "output_type": "execute_result"
    }
   ],
   "source": [
    "# list(map(int,)\n",
    "test_data_x.visits[5]"
   ]
  },
  {
   "cell_type": "code",
   "execution_count": 324,
   "metadata": {},
   "outputs": [],
   "source": [
    "amount_of_days = 1099\n",
    "amount_of_weeks = (amount_of_days+1)//7\n",
    "days_in_week = 7\n",
    "days_in_last_week = [day for day in np.arange(amount_of_days-6,amount_of_days+1)]\n",
    "\n",
    "\n"
   ]
  },
  {
   "cell_type": "code",
   "execution_count": 325,
   "metadata": {},
   "outputs": [],
   "source": [
    "def get_client_visits(client_id):\n",
    "    return list(map(int,test_data_x.visits[client_id-1].split()))"
   ]
  },
  {
   "cell_type": "code",
   "execution_count": 326,
   "metadata": {},
   "outputs": [],
   "source": [
    "def create_sparse_matrix_from_data(data,shape):\n",
    "    row_indices = []\n",
    "    column_indices = []\n",
    "    \n",
    "    for number, element in enumerate(data):\n",
    "        row_indices.append((element-1)// days_in_week)\n",
    "        column_indices.append((element-1)%days_in_week)\n",
    "    elements = np.full(len(column_indices),True)\n",
    "    return sparse.csr_matrix((elements,(row_indices,column_indices)),shape=shape,dtype=int)\n",
    "\n",
    "def create_client_visits_matrix(client_id):\n",
    "    visits = get_client_visits(client_id)\n",
    "    return create_sparse_matrix_from_data(visits,(amount_of_weeks,days_in_week))\n"
   ]
  },
  {
   "cell_type": "code",
   "execution_count": null,
   "metadata": {},
   "outputs": [],
   "source": []
  },
  {
   "cell_type": "code",
   "execution_count": 260,
   "metadata": {},
   "outputs": [],
   "source": [
    "def create_classic_weights(size,delta=1):\n",
    "    weights = [((size-i+1)/size)**delta for i in range(size)]\n",
    "    weights_sum = sum(weights)\n",
    "    return np.array([weight/weights_sum for weight in weights])"
   ]
  },
  {
   "cell_type": "code",
   "execution_count": 385,
   "metadata": {},
   "outputs": [],
   "source": [
    "def get_weekly_probabilities(client_id):\n",
    "   client_matrix = create_client_visits_matrix(client_id)\n",
    "   weights = create_classic_weights(client_matrix.get_shape()[0],1)\n",
    "   return weights.transpose() * client_matrix\n",
    "\n",
    "def get_first_weekly_probabilities(client_id):\n",
    "    weekly_probabilities = get_weekly_probabilities(client_id)\n",
    "    first_weekly_probabilities = []\n",
    "    for j,p in enumerate(weekly_probabilities):\n",
    "        weekly_probabilities_neg = np.array([1-pj for pj in weekly_probabilities[0:j]])\n",
    "        first_weekly_probabilities.append(p*weekly_probabilities_neg.prod())\n",
    "    return np.array(first_weekly_probabilities)\n",
    "\n",
    "def get_first_day(client_id):\n",
    "    return np.argmax(get_first_weekly_probabilities(client_id))+1"
   ]
  },
  {
   "cell_type": "code",
   "execution_count": null,
   "metadata": {},
   "outputs": [],
   "source": []
  },
  {
   "cell_type": "code",
   "execution_count": 277,
   "metadata": {},
   "outputs": [],
   "source": [
    "def check_accuracy():\n",
    "    accuracy = 0\n",
    "    for id in test_data_x.id:\n",
    "        first_day = get_first_day(id)\n",
    "        if(first_day == list(test_data_y[test_data_y.id == id].nextvisit).pop()):\n",
    "            accuracy += 1\n",
    "    return accuracy/len(test_data_y.id)"
   ]
  },
  {
   "cell_type": "code",
   "execution_count": 278,
   "metadata": {},
   "outputs": [
    {
     "data": {
      "text/plain": [
       "0.11715666666666667"
      ]
     },
     "execution_count": 278,
     "metadata": {},
     "output_type": "execute_result"
    }
   ],
   "source": [
    "check_accuracy()"
   ]
  },
  {
   "cell_type": "code",
   "execution_count": 364,
   "metadata": {},
   "outputs": [
    {
     "data": {
      "text/plain": [
       "300000"
      ]
     },
     "execution_count": 364,
     "metadata": {},
     "output_type": "execute_result"
    }
   ],
   "source": [
    "len(test_data_y.index)"
   ]
  },
  {
   "cell_type": "code",
   "execution_count": 365,
   "metadata": {},
   "outputs": [
    {
     "data": {
      "text/plain": [
       "166124"
      ]
     },
     "execution_count": 365,
     "metadata": {},
     "output_type": "execute_result"
    }
   ],
   "source": [
    "300000-133876"
   ]
  },
  {
   "cell_type": "code",
   "execution_count": 411,
   "metadata": {},
   "outputs": [],
   "source": [
    "def showData (x,y,nClasses):\n",
    "    classColormap  = ListedColormap(['#FF0000', '#00FF00', '#000000','#FF00FF', '#0000FF', '#00FFF0','#FFFFA0'])\n",
    "    pl.scatter(x,y,\n",
    "               c=y,\n",
    "               cmap=classColormap)\n",
    "    pl.show()   \n"
   ]
  },
  {
   "cell_type": "code",
   "execution_count": 428,
   "metadata": {},
   "outputs": [],
   "source": [
    "def get_sum_probability():\n",
    "    x = []\n",
    "    y = []\n",
    "    for id,visit in zip(test_data_x.id[0:5000],test_data_y.nextvisit[0:5000]):\n",
    "        x.append(get_first_weekly_probabilities(id)[6])\n",
    "        y.append(visit)\n",
    "    return (x,y)"
   ]
  },
  {
   "cell_type": "code",
   "execution_count": null,
   "metadata": {},
   "outputs": [],
   "source": []
  },
  {
   "cell_type": "code",
   "execution_count": 429,
   "metadata": {},
   "outputs": [
    {
     "data": {
      "image/png": "[encoded data removed]",
      "text/plain": [
       "<Figure size 432x288 with 1 Axes>"
      ]
     },
     "metadata": {
      "needs_background": "light"
     },
     "output_type": "display_data"
    }
   ],
   "source": [
    "x,y = get_sum_probability()\n",
    "showData(x,y,7)"
   ]
  },
  {
   "cell_type": "code",
   "execution_count": 379,
   "metadata": {},
   "outputs": [
    {
     "data": {
      "text/plain": [
       "2"
      ]
     },
     "execution_count": 379,
     "metadata": {},
     "output_type": "execute_result"
    }
   ],
   "source": [
    "get_first_day(1)"
   ]
  },
  {
   "cell_type": "code",
   "execution_count": null,
   "metadata": {},
   "outputs": [],
   "source": []
  }
 ],
 "metadata": {
  "kernelspec": {
   "display_name": "Python 3",
   "language": "python",
   "name": "python3"
  },
  "language_info": {
   "codemirror_mode": {
    "name": "ipython",
    "version": 3
   },
   "file_extension": ".py",
   "mimetype": "text/x-python",
   "name": "python",
   "nbconvert_exporter": "python",
   "pygments_lexer": "ipython3",
   "version": "3.7.4"
  }
 },
 "nbformat": 4,
 "nbformat_minor": 2
}
