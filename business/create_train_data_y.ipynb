{
 "cells": [
  {
   "cell_type": "code",
   "execution_count": 6,
   "metadata": {},
   "outputs": [],
   "source": [
    "import pandas as pd\n",
    "import numpy as np"
   ]
  },
  {
   "cell_type": "code",
   "execution_count": null,
   "metadata": {},
   "outputs": [],
   "source": []
  },
  {
   "cell_type": "code",
   "execution_count": 7,
   "metadata": {},
   "outputs": [],
   "source": [
    "train_data_x = pd.read_csv('train.csv')"
   ]
  },
  {
   "cell_type": "code",
   "execution_count": 8,
   "metadata": {},
   "outputs": [],
   "source": [
    "amount_of_days = 1099\n",
    "amount_of_weeks = amount_of_days//7\n",
    "amount_of_clients = len(train_data_x.index)\n",
    "\n",
    "days_in_last_week = [day for day in np.arange(amount_of_days-6,amount_of_days+1)]"
   ]
  },
  {
   "cell_type": "code",
   "execution_count": null,
   "metadata": {},
   "outputs": [],
   "source": []
  },
  {
   "cell_type": "code",
   "execution_count": 12,
   "metadata": {},
   "outputs": [],
   "source": [
    "def get_client_visits(client_id):\n",
    "    return list(map(int,train_data_x.visits[client_id-1].split()))\n",
    "\n",
    "def get_test_data_y():\n",
    "    test_data_y = pd.DataFrame(columns=['id','nextvisit'], index=np.arange(amount_of_clients))\n",
    "    y = []\n",
    "    visits = []\n",
    "    for id,visits_for_current_client in zip(train_data_x.id, train_data_x.visits):\n",
    "      visits_for_current_client = set([int(day) for day in visits_for_current_client.split()])\n",
    "      visits.append(sorted(list(visits_for_current_client)))\n",
    "      last_week_days_for_client = list(set(visits_for_current_client)&set(days_in_last_week))\n",
    "      y.append([id,last_week_days_for_client[0] % 14 if last_week_days_for_client else 0])\n",
    "    test_data_y.loc[:] = y\n",
    "    return get_test_data_y\n",
    "\n",
    "def get_test_data_x():\n",
    "    test_data_x = pd.DataFrame(columns=train_data_x.columns, index=train_data_x.index)\n",
    "    test_data_x_list = []\n",
    "    for id in train_data_x.id:\n",
    "        visits = get_client_visits(id)\n",
    "        visits = list(set(visits) - set(days_in_last_week))\n",
    "        visits = ' '.join(map(str,sorted(visits)))\n",
    "        test_data_x_list.append(visits)\n",
    "    test_data_x.visits = test_data_x_list\n",
    "    test_data_x.id = train_data_x.id \n",
    "    return test_data_x\n",
    "\n"
   ]
  },
  {
   "cell_type": "code",
   "execution_count": 14,
   "metadata": {},
   "outputs": [],
   "source": [
    "test_data_y = get_test_data_y()"
   ]
  },
  {
   "cell_type": "code",
   "execution_count": 10,
   "metadata": {},
   "outputs": [
    {
     "data": {
      "text/html": [
       "<div>\n",
       "<style scoped>\n",
       "    .dataframe tbody tr th:only-of-type {\n",
       "        vertical-align: middle;\n",
       "    }\n",
       "\n",
       "    .dataframe tbody tr th {\n",
       "        vertical-align: top;\n",
       "    }\n",
       "\n",
       "    .dataframe thead th {\n",
       "        text-align: right;\n",
       "    }\n",
       "</style>\n",
       "<table border=\"1\" class=\"dataframe\">\n",
       "  <thead>\n",
       "    <tr style=\"text-align: right;\">\n",
       "      <th></th>\n",
       "      <th>id</th>\n",
       "      <th>visits</th>\n",
       "    </tr>\n",
       "  </thead>\n",
       "  <tbody>\n",
       "    <tr>\n",
       "      <th>0</th>\n",
       "      <td>1</td>\n",
       "      <td>30 84 126 135 137 179 242 342 426 456 460 462 ...</td>\n",
       "    </tr>\n",
       "    <tr>\n",
       "      <th>1</th>\n",
       "      <td>2</td>\n",
       "      <td>24 53 75 134 158 192 194 211 213 238 251 305 4...</td>\n",
       "    </tr>\n",
       "    <tr>\n",
       "      <th>2</th>\n",
       "      <td>3</td>\n",
       "      <td>51 143 173 257 446 491 504 510 559 616 719 735...</td>\n",
       "    </tr>\n",
       "    <tr>\n",
       "      <th>3</th>\n",
       "      <td>4</td>\n",
       "      <td>1 20 22 92 124 149 211 335 387 390 406 460 489...</td>\n",
       "    </tr>\n",
       "    <tr>\n",
       "      <th>4</th>\n",
       "      <td>5</td>\n",
       "      <td>34 51 56 106 110 121 163 233 266 275 345 359 3...</td>\n",
       "    </tr>\n",
       "  </tbody>\n",
       "</table>\n",
       "</div>"
      ],
      "text/plain": [
       "   id                                             visits\n",
       "0   1  30 84 126 135 137 179 242 342 426 456 460 462 ...\n",
       "1   2  24 53 75 134 158 192 194 211 213 238 251 305 4...\n",
       "2   3  51 143 173 257 446 491 504 510 559 616 719 735...\n",
       "3   4  1 20 22 92 124 149 211 335 387 390 406 460 489...\n",
       "4   5  34 51 56 106 110 121 163 233 266 275 345 359 3..."
      ]
     },
     "execution_count": 10,
     "metadata": {},
     "output_type": "execute_result"
    }
   ],
   "source": [
    "test_data_x = get_test_data_x()\n",
    "test_data_x.head()"
   ]
  },
  {
   "cell_type": "code",
   "execution_count": null,
   "metadata": {},
   "outputs": [],
   "source": []
  },
  {
   "cell_type": "code",
   "execution_count": 13,
   "metadata": {},
   "outputs": [],
   "source": [
    "test_data_x.to_csv('test_data_x.csv',index=False)"
   ]
  },
  {
   "cell_type": "code",
   "execution_count": null,
   "metadata": {},
   "outputs": [],
   "source": [
    "train_data_x.to_csv('train_data_x.csv',index=False)"
   ]
  },
  {
   "cell_type": "code",
   "execution_count": null,
   "metadata": {},
   "outputs": [],
   "source": [
    "test_data_y.to_csv('test_data_y.csv',index=False)"
   ]
  },
  {
   "cell_type": "code",
   "execution_count": null,
   "metadata": {},
   "outputs": [],
   "source": []
  }
 ],
 "metadata": {
  "kernelspec": {
   "display_name": "Python 3",
   "language": "python",
   "name": "python3"
  },
  "language_info": {
   "codemirror_mode": {
    "name": "ipython",
    "version": 3
   },
   "file_extension": ".py",
   "mimetype": "text/x-python",
   "name": "python",
   "nbconvert_exporter": "python",
   "pygments_lexer": "ipython3",
   "version": "3.7.4"
  }
 },
 "nbformat": 4,
 "nbformat_minor": 2
}
