{
 "cells": [
  {
   "cell_type": "code",
   "execution_count": 175,
   "metadata": {},
   "outputs": [],
   "source": [
    "import pandas as pd\n",
    "import numpy as np\n",
    "from scipy import sparse\n",
    "import cpp.python_modules.ML as ML"
   ]
  },
  {
   "cell_type": "code",
   "execution_count": 225,
   "metadata": {},
   "outputs": [],
   "source": [
    "train_data_x = pd.read_csv('train_data_x.csv')\n",
    "test_data_x = pd.read_csv('test_data_x.csv')\n",
    "test_data_y = pd.read_csv('test_data_y.csv')"
   ]
  },
  {
   "cell_type": "code",
   "execution_count": null,
   "metadata": {},
   "outputs": [],
   "source": []
  },
  {
   "cell_type": "code",
   "execution_count": null,
   "metadata": {},
   "outputs": [],
   "source": []
  },
  {
   "cell_type": "code",
   "execution_count": 251,
   "metadata": {},
   "outputs": [],
   "source": [
    "amount_of_days = 1099\n",
    "amount_of_weeks = (amount_of_days+1)//7\n",
    "days_in_week = 7\n",
    "days_in_last_week = [day for day in np.arange(amount_of_days-6,amount_of_days+1)]\n",
    "\n",
    "\n"
   ]
  },
  {
   "cell_type": "code",
   "execution_count": 258,
   "metadata": {},
   "outputs": [],
   "source": [
    "def get_client_visits(client_id):\n",
    "    visits = test_data_x.visits[client_id-1]\n",
    "    visits = visits.replace(']','')\n",
    "    visits = visits.replace('[','')\n",
    "    visits = visits.replace(',','')\n",
    "    return [int(visit) for visit in visits.split()]"
   ]
  },
  {
   "cell_type": "code",
   "execution_count": 259,
   "metadata": {},
   "outputs": [],
   "source": [
    "def create_sparse_matrix_from_data(data,shape):\n",
    "    row_indices = []\n",
    "    column_indices = []\n",
    "    \n",
    "    for number, element in enumerate(data):\n",
    "        row_indices.append((element-1)// days_in_week)\n",
    "        column_indices.append((element-1)%days_in_week)\n",
    "    elements = [True for index in range(len(column_indices))]\n",
    "    return sparse.csr_matrix((elements,(row_indices,column_indices)),shape=shape,dtype=int)\n",
    "\n",
    "def create_client_visits_matrix(client_id):\n",
    "    visits = get_client_visits(client_id)\n",
    "    return create_sparse_matrix_from_data(visits,(amount_of_weeks,days_in_week))\n"
   ]
  },
  {
   "cell_type": "code",
   "execution_count": 260,
   "metadata": {},
   "outputs": [],
   "source": [
    "def create_classic_weights(size,delta=1):\n",
    "    weights = [((size-i+1)/size)**delta for i in range(size)]\n",
    "    weights_sum = sum(weights)\n",
    "    return np.array([weight/weights_sum for weight in weights])"
   ]
  },
  {
   "cell_type": "code",
   "execution_count": 261,
   "metadata": {},
   "outputs": [],
   "source": [
    "def get_weekly_probabilities(client_id):\n",
    "   client_matrix = create_client_visits_matrix(client_id)\n",
    "   weights = create_classic_weights(client_matrix.get_shape()[0])\n",
    "   return weights.transpose() * client_matrix\n",
    "\n",
    "def get_first_weekly_probabilities(client_id):\n",
    "    weekly_probabilities = get_weekly_probabilities(client_id)\n",
    "    first_weekly_probabilities = []\n",
    "    for j,p in enumerate(weekly_probabilities):\n",
    "        weekly_probabilities_neg = np.array([1-pj for pj in weekly_probabilities[0:j]])\n",
    "        first_weekly_probabilities.append(p*weekly_probabilities_neg.prod())\n",
    "    return first_weekly_probabilities\n",
    "\n",
    "def get_first_day(client_id):\n",
    "    return np.argmax(get_first_weekly_probabilities(client_id))+1"
   ]
  },
  {
   "cell_type": "code",
   "execution_count": null,
   "metadata": {},
   "outputs": [],
   "source": []
  },
  {
   "cell_type": "code",
   "execution_count": 277,
   "metadata": {},
   "outputs": [],
   "source": [
    "def check_accuracy():\n",
    "    accuracy = 0\n",
    "    for id in test_data_x.id:\n",
    "        first_day = get_first_day(id)\n",
    "        if(first_day == list(test_data_y[test_data_y.id == id].nextvisit).pop()):\n",
    "            accuracy += 1\n",
    "    return accuracy/len(test_data_y.id)"
   ]
  },
  {
   "cell_type": "code",
   "execution_count": 278,
   "metadata": {},
   "outputs": [
    {
     "data": {
      "text/plain": [
       "0.11715666666666667"
      ]
     },
     "execution_count": 278,
     "metadata": {},
     "output_type": "execute_result"
    }
   ],
   "source": [
    "check_accuracy()"
   ]
  },
  {
   "cell_type": "code",
   "execution_count": null,
   "metadata": {},
   "outputs": [],
   "source": []
  }
 ],
 "metadata": {
  "kernelspec": {
   "display_name": "Python 3",
   "language": "python",
   "name": "python3"
  },
  "language_info": {
   "codemirror_mode": {
    "name": "ipython",
    "version": 3
   },
   "file_extension": ".py",
   "mimetype": "text/x-python",
   "name": "python",
   "nbconvert_exporter": "python",
   "pygments_lexer": "ipython3",
   "version": "3.7.4"
  }
 },
 "nbformat": 4,
 "nbformat_minor": 2
}
