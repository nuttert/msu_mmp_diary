{
 "cells": [
  {
   "cell_type": "code",
   "execution_count": 1,
   "metadata": {},
   "outputs": [],
   "source": [
    "import pandas as pd\n",
    "import numpy as np"
   ]
  },
  {
   "cell_type": "code",
   "execution_count": null,
   "metadata": {},
   "outputs": [],
   "source": []
  },
  {
   "cell_type": "code",
   "execution_count": 2,
   "metadata": {},
   "outputs": [],
   "source": [
    "train_data_x = pd.read_csv('train.csv')"
   ]
  },
  {
   "cell_type": "code",
   "execution_count": 3,
   "metadata": {},
   "outputs": [],
   "source": [
    "amount_of_days = 1099\n",
    "amount_of_weeks = amount_of_days//7\n",
    "amount_of_clients = len(train_data_x.index)\n",
    "\n",
    "days_in_last_week = [day for day in np.arange(amount_of_days-6,amount_of_days+1)]"
   ]
  },
  {
   "cell_type": "code",
   "execution_count": 4,
   "metadata": {},
   "outputs": [],
   "source": [
    "test_data_y = pd.DataFrame(columns=['id','nextvisit'], index=np.arange(amount_of_clients))\n",
    "y = []\n",
    "visits = []\n",
    "for id,visits_for_current_client in zip(train_data_x['id'], train_data_x['visits']):\n",
    "      visits_for_current_client = set([int(day) for day in visits_for_current_client.split()])\n",
    "      visits.append(sorted(list(visits_for_current_client)))\n",
    "      last_week_days_for_client = list(set(visits_for_current_client)&set(days_in_last_week))\n",
    "      y.append([id,last_week_days_for_client[0] % 14 if last_week_days_for_client else 0])\n",
    "\n",
    "def get_test_data_x():\n",
    "    test_data_x = pd.DataFrame(columns=train_data_x.columns, index=train_data_x.index)\n",
    "    test_data_x_list = []\n",
    "    for id in train_data_x.id:\n",
    "        visits = set(get_client_visits(id))\n",
    "        visits = list(set(visits) - set(days_in_last_week))\n",
    "        test_data_x_list.append(sorted(visits))\n",
    "    test_data_x.visits = test_data_x_list\n",
    "    test_data_x.id = train_data_x.id \n",
    "    return test_data_x\n",
    "\n",
    "test_data_x = get_test_data_x()"
   ]
  },
  {
   "cell_type": "code",
   "execution_count": 5,
   "metadata": {},
   "outputs": [],
   "source": [
    "test_data_y.loc[:] = y"
   ]
  },
  {
   "cell_type": "code",
   "execution_count": null,
   "metadata": {},
   "outputs": [],
   "source": [
    "test_data_x.to_csv('test_data_x.csv',index=False)"
   ]
  },
  {
   "cell_type": "code",
   "execution_count": 7,
   "metadata": {},
   "outputs": [],
   "source": [
    "train_data_x.to_csv('train_data_x.csv',index=False)"
   ]
  },
  {
   "cell_type": "code",
   "execution_count": 8,
   "metadata": {},
   "outputs": [],
   "source": [
    "test_data_y.to_csv('test_data_y.csv',index=False)"
   ]
  },
  {
   "cell_type": "code",
   "execution_count": null,
   "metadata": {},
   "outputs": [],
   "source": []
  }
 ],
 "metadata": {
  "kernelspec": {
   "display_name": "Python 3",
   "language": "python",
   "name": "python3"
  },
  "language_info": {
   "codemirror_mode": {
    "name": "ipython",
    "version": 3
   },
   "file_extension": ".py",
   "mimetype": "text/x-python",
   "name": "python",
   "nbconvert_exporter": "python",
   "pygments_lexer": "ipython3",
   "version": "3.7.4"
  }
 },
 "nbformat": 4,
 "nbformat_minor": 2
}
